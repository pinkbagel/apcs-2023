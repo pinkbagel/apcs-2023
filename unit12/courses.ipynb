{
 "cells": [
  {
   "attachments": {},
   "cell_type": "markdown",
   "metadata": {},
   "source": [
    "# Courses and Teachers!"
   ]
  },
  {
   "cell_type": "code",
   "execution_count": null,
   "metadata": {},
   "outputs": [],
   "source": [
    "# first, import the re module to use python's regular expressions\n",
    "import re"
   ]
  },
  {
   "cell_type": "code",
   "execution_count": null,
   "metadata": {},
   "outputs": [],
   "source": [
    "with open('datasets/ahs23-24/courses.txt', 'r') as fp:\n",
    "    courses_upper = fp.read()\n",
    "courses_upper"
   ]
  },
  {
   "cell_type": "code",
   "execution_count": null,
   "metadata": {},
   "outputs": [],
   "source": [
    "# find a six-character run of capital/number surrounded by whitespace \\s\n",
    "pattern = \"\\s([A-Z0-9]{6})\\s\"\n",
    "# find credits, course, and symbol\n",
    "pattern = r\"(1.0|0.5|0.25) ([\\w\\s\\(\\)\\&\\-\\/]+(?:Req\\.\\))?) ([A-Z0-9]{5,6})\"\n",
    "courses = re.findall(pattern, courses_upper)\n",
    "print(len(courses), \"courses matched\")\n",
    "courses"
   ]
  },
  {
   "cell_type": "code",
   "execution_count": null,
   "metadata": {},
   "outputs": [],
   "source": [
    "with open('datasets/ahs23-24/courses-frosh.txt', 'r') as fp:\n",
    "    courses_frosh = fp.read()\n",
    "courses_frosh"
   ]
  },
  {
   "cell_type": "code",
   "execution_count": null,
   "metadata": {},
   "outputs": [],
   "source": [
    "# find a six-character run of capital/number surrounded by whitespace \\s\n",
    "pattern = \"\\s([A-Z0-9]{6})\\s\"\n",
    "# find credits, course, and symbol\n",
    "pattern = r\"(1.0|0.5|0.25) ([\\w\\s\\(\\)\\&\\-\\/]+(?:Req\\.\\))?) ([A-Z0-9]{5,6})\"\n",
    "courses = re.findall(pattern, courses_frosh)\n",
    "print(len(courses), \"courses matched\")\n",
    "courses"
   ]
  },
  {
   "cell_type": "code",
   "execution_count": null,
   "metadata": {},
   "outputs": [],
   "source": [
    "with open('datasets/ahs23-24/skyward-courses.txt', 'r') as fp:\n",
    "    data = fp.read()\n",
    "data\n"
   ]
  },
  {
   "cell_type": "code",
   "execution_count": null,
   "metadata": {},
   "outputs": [],
   "source": [
    "# find a six-character run of capital/number followed by a \\t (tab character)\n",
    "pattern = r\"([A-Z0-9]{6})\\t(.*)\\n([\\d\\.]+) Credits,  (Elective|Required)\"\n",
    "# find symbol, course, and credits, and elective/required\n",
    "courses = re.findall(pattern, data)\n",
    "print(len(courses), \"courses matched\")\n",
    "courses"
   ]
  },
  {
   "cell_type": "code",
   "execution_count": null,
   "metadata": {},
   "outputs": [],
   "source": [
    "def parse_courses():\n",
    "    courses = []\n",
    "    with open('datasets/ahs23-24/skyward-courses.txt', \"r\") as file:\n",
    "        coursedata = file.read()\n",
    "    # group name syntax: https://docs.python.org/3/library/re.html#re.Match.group\n",
    "    for item in re.finditer('(?P<key>[A-Z0-9]{6})\\t(?P<course>.+)\\n(?P<credits>[\\d\\.]+) Credits,  (?P<type>Elective|Required)', coursedata):\n",
    "        foo = item.groupdict()\n",
    "        foo['credits'] = float(foo['credits'])\n",
    "        courses.append(foo)\n",
    "    return courses\n",
    "\n",
    "courses = parse_courses()\n",
    "print(len(courses), \"courses matched\")\n",
    "courses"
   ]
  },
  {
   "cell_type": "code",
   "execution_count": null,
   "metadata": {},
   "outputs": [],
   "source": [
    "import re\n",
    "import csv\n",
    "\n",
    "def parse_filename_with_regex(filename, regex):\n",
    "    courses = []\n",
    "    with open(filename, \"r\") as file:\n",
    "        coursedata = file.read()\n",
    "    \n",
    "    for item in regex.finditer(coursedata):\n",
    "        course = item.groupdict()\n",
    "        course['credits'] = float(course['credits'])\n",
    "        courses.append(course)\n",
    "    return courses\n",
    "\n",
    "skyward_regex = re.compile(r\"(?P<key>[A-Z0-9]{6})\\t(?P<course>.+)\\n(?P<credits>[\\d\\.]+) Credits,  (?P<type>Elective|Required)\")\n",
    "ahs_regex = re.compile(r\"(?P<credits>1.0|0.5|0.25) (?P<course>[\\w\\s\\(\\)\\&\\-\\/]+(?:Req\\.\\))?) (?P<key>[A-Z0-9]{5,6})\")\n",
    "skyware_file = 'datasets/ahs23-24/skyward-courses.txt'\n",
    "courses_frosh_file = 'datasets/ahs23-24/courses-frosh.txt'\n",
    "courses_file = 'datasets/ahs23-24/courses.txt'\n",
    "\n",
    "all_courses = []\n",
    "all_courses.extend(parse_filename_with_regex(skyware_file,skyward_regex))\n",
    "all_courses.extend(parse_filename_with_regex(courses_file,ahs_regex))\n",
    "all_courses.extend(parse_filename_with_regex(courses_frosh_file,ahs_regex))\n",
    "\n",
    "outfile = 'datasets/courses.csv'\n",
    "with open(outfile, 'w') as csvfile:\n",
    "    fieldnames = ['key','course','credits','type']\n",
    "    writer = csv.DictWriter(csvfile, fieldnames=fieldnames)\n",
    "    writer.writeheader()\n",
    "    for course in sorted(all_courses, key=lambda course: course['key']):\n",
    "        writer.writerow(course)\n",
    "\n",
    "print(\"wrote\",len(all_courses),\"courses to\",outfile)"
   ]
  },
  {
   "attachments": {},
   "cell_type": "markdown",
   "metadata": {},
   "source": [
    "What can we discover with this data?\n",
    "- How many teachers does the school need to run this course load?  How many periods do they teach?\n",
    "- If we were going to schedule classes, what algorithm can we imagine?\n",
    "- How do we de-dupe this data?"
   ]
  },
  {
   "cell_type": "code",
   "execution_count": null,
   "metadata": {},
   "outputs": [],
   "source": [
    "# let's group courses by key prefix (excluding A/B suffix)\n",
    "course_prefix = dict()\n",
    "max_for_prefix = 0\n",
    "for course in all_courses:\n",
    "    prefix = course['key']\n",
    "    if prefix[-1] in \"AB\":\n",
    "        prefix = prefix[:-1]\n",
    "    course_prefix[prefix] = course_prefix.get(prefix, [])\n",
    "    course_prefix[prefix].append(course)\n",
    "    if len(course_prefix[prefix]) > max_for_prefix:\n",
    "        max_for_prefix = len(course_prefix[prefix])\n",
    "\n",
    "# maximum number of courses for prefix\n",
    "print(\"max courses in a group:\", max_for_prefix) \n",
    "# how many courses now?\n",
    "print(\"courses:\", len(course_prefix))\n",
    "course_prefix"
   ]
  },
  {
   "cell_type": "code",
   "execution_count": null,
   "metadata": {},
   "outputs": [],
   "source": [
    "# for a group of courses, remove duplicates\n",
    "def dedupe_course(courses):\n",
    "    # map courses by key, check types are the same\n",
    "    merged = dict()\n",
    "    types = set()\n",
    "    for c in courses:\n",
    "        if 'type' in c:\n",
    "            types.add(c['type'])\n",
    "            del c['type']\n",
    "        merged[c['key']] = merged.get(c['key'],[])\n",
    "        merged[c['key']].append(c)\n",
    "    # courses should not be both required and elective\n",
    "    assert len(types) <= 1\n",
    "    assert len(merged) <= 3 # A, B, both\n",
    "    course_type = None\n",
    "    if len(types) == 1:\n",
    "        course_type = types.pop()\n",
    "    # consolidate same-key courses into one course with aliases and minimum credits    \n",
    "    # because 1.0 course is often coded with 1st semester key\n",
    "    for course_key in merged:\n",
    "        course = merged[course_key][0]        \n",
    "        for alias in merged[course_key][1:]:\n",
    "            course['credits'] = min(course['credits'], alias['credits'])\n",
    "            if alias['course'] != course['course']:\n",
    "                course['alias'] = course.get('alias', [])\n",
    "                if alias['course'] not in course['alias']:\n",
    "                    course['alias'].append(alias['course'])\n",
    "        if course_type:\n",
    "            course['type'] = course_type\n",
    "        merged[course_key] = course\n",
    "    # link courses as related\n",
    "    distinct_courses = list(merged.values())\n",
    "    related_keys = set([c['key'] for c in distinct_courses])\n",
    "    for course in distinct_courses:\n",
    "        course['related'] = [k for k in related_keys if k != course['key']]\n",
    "    if len(course['related']) == 0:\n",
    "        del course['related']\n",
    "    return distinct_courses\n",
    "\n",
    "# now we should have max 3 courses pre prefix\n",
    "max_for_prefix = 0\n",
    "for prefix in course_prefix:\n",
    "    course_prefix[prefix] = dedupe_course(course_prefix[prefix])\n",
    "    if len(course_prefix[prefix]) > max_for_prefix:\n",
    "        max_for_prefix = len(course_prefix[prefix])    \n",
    "\n",
    "max_for_prefix"
   ]
  },
  {
   "cell_type": "code",
   "execution_count": null,
   "metadata": {},
   "outputs": [],
   "source": [
    "from pprint import pprint\n",
    "# or max 2, except for one exception:\n",
    "for prefix in course_prefix:\n",
    "    if len(course_prefix[prefix]) > 2:\n",
    "        pprint(course_prefix[prefix])"
   ]
  },
  {
   "cell_type": "code",
   "execution_count": null,
   "metadata": {},
   "outputs": [],
   "source": [
    "# output our cleaned data\n",
    "outfile = 'datasets/courses2.csv'\n",
    "with open(outfile, 'w') as csvfile:\n",
    "    fieldnames = ['key','course','alias','credits','type', 'related']\n",
    "    writer = csv.DictWriter(csvfile, fieldnames=fieldnames)\n",
    "    writer.writeheader()\n",
    "    for prefix in sorted(course_prefix):\n",
    "        for course in course_prefix[prefix]:\n",
    "            writer.writerow(course)\n",
    "\n",
    "print(\"wrote courses to\",outfile)"
   ]
  }
 ],
 "metadata": {
  "kernelspec": {
   "display_name": "Python 3",
   "language": "python",
   "name": "python3"
  },
  "language_info": {
   "codemirror_mode": {
    "name": "ipython",
    "version": 3
   },
   "file_extension": ".py",
   "mimetype": "text/x-python",
   "name": "python",
   "nbconvert_exporter": "python",
   "pygments_lexer": "ipython3",
   "version": "3.9.2"
  },
  "orig_nbformat": 4
 },
 "nbformat": 4,
 "nbformat_minor": 2
}
