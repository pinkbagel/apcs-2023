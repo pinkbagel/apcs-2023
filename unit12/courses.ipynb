{
 "cells": [
  {
   "attachments": {},
   "cell_type": "markdown",
   "metadata": {},
   "source": [
    "# Courses and Teachers!"
   ]
  },
  {
   "cell_type": "code",
   "execution_count": 3,
   "metadata": {},
   "outputs": [],
   "source": [
    "# first, import the re module to use python's regular expressions\n",
    "import re"
   ]
  },
  {
   "cell_type": "code",
   "execution_count": 21,
   "metadata": {},
   "outputs": [
    {
     "data": {
      "text/plain": [
       "'2023 - 2024 COURSE AVAILABILITY LIST\\nCLASS OF 2024 - 2026\\nENGLISH PHYSICAL EDUCATION FINE ARTS\\n1.0 ENGLISH 9 (WITH HONORS OPTIONS) EN100A 0.5 SPORTS & CONDITIONING PE100A 0.5 PAINTING I & II AR150A\\n1.0 ENGLISH 10 (WITH HONORS OPTIONS) EN200A 0.5 SPORTS & CONDITIONING PE100B 0.5 PAINTING I &II AR150B\\n1.0 ENGLISH 11 EN300A 0.5 STRENGTH & CONDITIONING PE130A 0.5 DRAWING I & II AR100A\\n1.0 ENGLISH 12 BRIDGE TO COLLEGE EN420A 0.5 STRENGTH & CONDITIONING PE130B 0.5 DRAWING I & II AR100B\\n1.0 AP LANGUAGE / ENGLISH COMP 101 (CIH) EN710A 0.5 CARDIO CORE PE140A 0.5 CERAMICS I & II AR200A\\n1.0 AP ENGLISH LITERATURE EN720A 0.5 CARDIO CORE PE140B 0.5 CERAMICS I & II AR200B\\n0.5 SCULPUTRE I & II AR240A\\nSOCIAL STUDIES HEALTH 0.5 SCULPTURE I & II AR240B\\n0.5 WORLD HISTORY SS100A 0.5 HEALTH HLT101 0.5 DRAMA I DRA110\\n1.0 AP HUMAN GEOGRAHPHY SS700A 0.5 DRAMA II DRA200\\n1.0 US HISTORY SS200A CARRER/TECHNICAL 1.0 DRAMA III DRA300\\n1.0 AP US HISTORY SS720A 0.5 ENGINEERING DRAWING / DESIGN I & II VOC425 0.5 CHOIR MU100A\\n0.5 CONTEMPORARY WORLD ISSUES (CWI) SS330A 0.5 ARCHITECTURAL DRAWING I & II VOC430 0.5 CHOIR MU100B\\n0.5 CONTEMPORARY AMERICAN CULTURE (CAC) SS310A 1.0 YEARBOOK (Application Req) VOC575 0.5 SYMPHONIC BAND MU600A\\n0.5 CIVICS SS300A 1.0 YEARBOOK LAB (Editors Only) VOC517 0.5 SYMPHONIC BAND MU600B\\n0.5 CONTEMPORARY ISSUES THRU MULTI MEDIA SS320A 0.5 MICROSOFT IT ACADEMY VOC534 0.5 WIND ENSEMBLE (Audition Req.) MU620A\\n1.0 AP US GOVERNMENT SS730A 0.5 ADV MICROSOFT IT ACADEMY VOC535 0.5 WIND ENSEMBLE (Audition Req.) MU620B\\n1.0 HON RELIGIONS / HIST 121 REL OF WRLD (CIH) SS400A 0.5 INTRO TO COMPUTER SCIENCE VCT300 0.5 PERCUSSION MU640A\\n0.5 DIGITAL MEDIA PRODUCTION VOC560 0.5 PERCUSSION MU640B\\nSCIENCE 1.0 ADV DIGITAL MEDIA (Application Req) VOC565 0.5 GUITAR MU500A\\n1.0 BIOLOGY/EARTH SC120A 0.5 COMMERCIAL PHOTOGRAPHY I & II VOC570 0.5 GUITAR MU500B\\n1.0 CHEMISTRY SC220A 0.5 COMMERCIAL PHOTOGRAPHY I & II VOC571 0.25 JAZZ CHOIR A (Audition Req.) MU800A\\n1.0 PHYSICS SC720A 0.5 MARKETING VOC630 0.25 JAZZ CHOIR B (Audition Req.) MU800B\\n1.0 AP PHYSICS I SC730A 0.5 ADV MARKETING VOC632 0.25 JAZZ BAND A (Audition Req.) MU820A\\n0.5 ROBOTICS I SC300A 0.5 STUDENT STORE VOC635 0.25 JAZZ BAND B (Audition Req.) MU820B\\n0.5 ROBOTICS II-III SC300B 0.5 STUDENT STORE VOC636\\n1.0 AP ENVIRONMENTAL SCIENCE SC700A 0.5 PERSONAL FINANCE I VOC740 ADDITIONAL ELECTIVES\\n0.5 PERSONAL FINANCE II VOC741 1.0 STUDY SKILLS A & B MIS053\\nMATHEMATICS 1.0 HUMAN ANATOMY / PHYSIOLOGY VOC616 1.0 SENIOR SEMINAR A & B / CSS 103 (CIH) CIHSSA\\n1.0 ALGEBRA I MA130A 0.5 SPORTS MEDICINE I VOC620 0.5 TECH THEATRE (Permission Req.) DT500A\\n1.0 GEOMETRY MA140A 0.5 SPORTS MEDICINE II VOC621 0.5 TECH THEATRE (Permission Req.) DT500B\\n1.0 BRIDGE TO COLLEGE MATH 11TH-12TH MA310A 0.5 METALS I - IV VOC831 0.5 STUDENT LEADERSHIP (Application Req) STLEA1\\n1.0 ALGEBRA II MA150A 0.5 METALS I - IV VOC832 0.5 STUDENT LEADERSHIP (Application Req) STLEA2\\n1.0 ALGEBRA II HONORS MA155A 0.5 WOOD TECH I & II VOC911 1.0 2024 ANACORTES COLLEGE PREP ACP24A\\n1.0 ALGEBRA II HON AB / AP PRE-CALC AB MA15AB 0.5 WOOD TECH I & II VOC912 1.0 2025 ANACORTES COLLEGE PREP ACP25A\\n1.0 ALGEBRA II HON AB / AP PRE-CALC AB MA20AB 1.0 2026 ANACORTES COLLEGE PREP ACP26A\\n1.0 AP PRE CALCULUS MA210A WORLD LANGUAGE\\n1.0 AP CALCULUS AB/BC MA700A 1.0 SPANISH I WL100A\\n1.0 AP STATISTICS MA720A 1.0 SPANISH II WL200A\\n1.0 SPANISH III / SPAN 123 (CIH) WL310A\\n1.0 SPANISH IV / SPAN 221 (CIH) WL410A\\n1.0 AP SPANISH LANG & CULTURE (SPANISH V) WL710'"
      ]
     },
     "execution_count": 21,
     "metadata": {},
     "output_type": "execute_result"
    }
   ],
   "source": [
    "with open('datasets/ahs23-24/courses.txt', 'r') as fp:\n",
    "    courses_upper = fp.read()\n",
    "courses_upper"
   ]
  },
  {
   "cell_type": "code",
   "execution_count": 25,
   "metadata": {},
   "outputs": [
    {
     "data": {
      "text/plain": [
       "['COURSE',\n",
       " 'HONORS',\n",
       " 'EN100A',\n",
       " 'SPORTS',\n",
       " 'PE100A',\n",
       " 'AR150A',\n",
       " 'HONORS',\n",
       " 'EN200A',\n",
       " 'SPORTS',\n",
       " 'PE100B',\n",
       " 'AR150B',\n",
       " 'EN300A',\n",
       " 'PE130A',\n",
       " 'AR100A',\n",
       " 'BRIDGE',\n",
       " 'EN420A',\n",
       " 'PE130B',\n",
       " 'AR100B',\n",
       " 'EN710A',\n",
       " 'CARDIO',\n",
       " 'PE140A',\n",
       " 'AR200A',\n",
       " 'EN720A',\n",
       " 'CARDIO',\n",
       " 'PE140B',\n",
       " 'AR200B',\n",
       " 'AR240A',\n",
       " 'HEALTH',\n",
       " 'AR240B',\n",
       " 'SS100A',\n",
       " 'HEALTH',\n",
       " 'DRA110',\n",
       " 'SS700A',\n",
       " 'DRA200',\n",
       " 'SS200A',\n",
       " 'DRA300',\n",
       " 'SS720A',\n",
       " 'DESIGN',\n",
       " 'VOC425',\n",
       " 'MU100A',\n",
       " 'ISSUES',\n",
       " 'SS330A',\n",
       " 'VOC430',\n",
       " 'MU100B',\n",
       " 'SS310A',\n",
       " 'VOC575',\n",
       " 'MU600A',\n",
       " 'CIVICS',\n",
       " 'VOC517',\n",
       " 'MU600B',\n",
       " 'ISSUES',\n",
       " 'SS320A',\n",
       " 'VOC534',\n",
       " 'MU620A',\n",
       " 'SS730A',\n",
       " 'VOC535',\n",
       " 'MU620B',\n",
       " 'SS400A',\n",
       " 'VCT300',\n",
       " 'MU640A',\n",
       " 'VOC560',\n",
       " 'MU640B',\n",
       " 'VOC565',\n",
       " 'GUITAR',\n",
       " 'SC120A',\n",
       " 'VOC570',\n",
       " 'GUITAR',\n",
       " 'SC220A',\n",
       " 'VOC571',\n",
       " 'MU800A',\n",
       " 'SC720A',\n",
       " 'VOC630',\n",
       " 'MU800B',\n",
       " 'SC730A',\n",
       " 'VOC632',\n",
       " 'MU820A',\n",
       " 'SC300A',\n",
       " 'VOC635',\n",
       " 'MU820B',\n",
       " 'SC300B',\n",
       " 'VOC636',\n",
       " 'SC700A',\n",
       " 'VOC740',\n",
       " 'VOC741',\n",
       " 'SKILLS',\n",
       " 'MIS053',\n",
       " 'VOC616',\n",
       " 'SENIOR',\n",
       " 'CIHSSA',\n",
       " 'MA130A',\n",
       " 'SPORTS',\n",
       " 'VOC620',\n",
       " 'DT500A',\n",
       " 'MA140A',\n",
       " 'SPORTS',\n",
       " 'VOC621',\n",
       " 'DT500B',\n",
       " 'BRIDGE',\n",
       " 'MA310A',\n",
       " 'METALS',\n",
       " 'VOC831',\n",
       " 'STLEA1',\n",
       " 'MA150A',\n",
       " 'METALS',\n",
       " 'VOC832',\n",
       " 'STLEA2',\n",
       " 'HONORS',\n",
       " 'VOC911',\n",
       " 'ACP24A',\n",
       " 'MA15AB',\n",
       " 'VOC912',\n",
       " 'ACP25A',\n",
       " 'MA20AB',\n",
       " 'ACP26A',\n",
       " 'MA210A',\n",
       " 'MA700A',\n",
       " 'WL100A',\n",
       " 'MA720A',\n",
       " 'WL200A',\n",
       " 'WL310A',\n",
       " 'WL410A']"
      ]
     },
     "execution_count": 25,
     "metadata": {},
     "output_type": "execute_result"
    }
   ],
   "source": [
    "# find a six-character run of capital/number surrounded by whitespace \\s\n",
    "pattern = \"\\s([A-Z0-9]{6})\\s\"\n",
    "re.findall(pattern, courses_upper)"
   ]
  },
  {
   "cell_type": "code",
   "execution_count": 26,
   "metadata": {},
   "outputs": [
    {
     "data": {
      "text/plain": [
       "'2023 - 2024 Course Availabiltiy\\nClass of 2027\\nENGLISH CAREER/TECHNICAL\\n1.0 9TH ENGLISH (W/ HONORS OPTION) EN100A 0.5 ENGINEERING DRAW / DESIGN I & II VOC425\\n0.5 ARCHITECTURAL DRAWING I & II VOC430\\nSOCIAL STUDIES 0.5 MICROSOFT IT ACADEMY VOC534\\n0.5 WORLD HISTORY SS100A 0.5 ADV MICROSOFT IT ACADEMY VOC535\\n1.0 AP HUMAN GEOGRAPHY SS700A 0.5 INTRO COMPUTER SCIENCE VCT300\\n0.5 DIGITAL MEDIA PRODUCTION VOC560\\nSCIENCE 1.0 ADV DIG MEDIA (Application Req) VOC565\\n1.0 BIOLOGY / EARTH SC120A 0.5 COMMERCIAL PHOTOGRAPHY I & II VOC570\\n1.0 CHEMISTRY (Pre Req Alg I) SC220A 0.5 COMMERCIAL PHOTOGRAPHY I & II VOC571\\n0.5 ROBOTICS I & II SC300A 1.0 YEARBOOK (Application Req) VOC575\\n0.5 ROBOTICS I & II SC300B 0.5 INTRO TO MARKETING VOC630\\n0.5 ADVANCED MARKETING VOC632\\n0.5 METALS I & II VOC831\\nMATHEMATICS 0.5 METALS I & II VOC 832\\n1.0 ALGEBRA I MA130A 0.5 WOOD TECH I & II VOC911\\n1.0 GEOMETRY MA140A 0.5 WOOD TECH I & II VOC912\\n1.0 ALGEBRA II MA150A\\n1.0 ALGEBRA II HONORS MA155A FINE ARTS\\n0.5 DRAWING I & II AR100A\\nPHYSICAL EDUCATION 0.5 DRAWING I & II AR100B\\n0.5 SPORTS & CONDITIONING PE100A 0.5 PAINTING I & II AR150A\\n0.5 SPORTS & CONDITIONING PE100B 0.5 PAINTING I & II AR150B\\n0.5 STRENGTH & CONDITIONING PE130A 0.5 SCULPTURE I & II AR240A\\n0.5 STRENGTH & CONDITIONING PE130B 0.5 SCULPUTRE I & II AR240B\\n0.5 CARDIO CORE PE140A 0.5 DRAMA I DRA110\\n0.5 CARDIO CORE PE140B 0.5 DRAMA II DRA200\\n0.5 TECH THEATRE (Application Req.) DT500A\\nHEALTH 0.5 TECH THEATRE (Application Req.) DT500B\\n0.5 HEALTH HLT101 0.5 CHOIR MU100A\\n0.5 CHOIR MU100B\\n26 Credits Required for Graduation 0.5 SYMPHONIC BAND MU600A\\nENGLISH 4.0 0.5 SYMPHONIC BAND MU600B\\nSOCIAL STUDIES 3.0 0.5 PERCUSSION A MU640A\\nMATH 3.0 0.5 PERCUSSION B MU640B\\nSCIENCE 3.0 0.5 WIND ENSEMBLE (Audition Req.) MU620A\\nP.E. 1.5 0.5 WIND ENSEMBLE (Audition Req.) MU620B\\nHEALTH 0.5\\nCAREER/TECH 1.0 ADDITIONAL ELECTIVES\\nFINE ARTS* 1.0 1.0 SPANISH I WL100A\\nWORLD LANGUAGE * 2.0 1.0 SPANISH II WL200A\\nELECTIVES 7.0 1.0 ALG I SUPPORT (IF ASSIGNED) MA100A\\nTotal 26.0 1.0 2027 ANACORTES COLLEGE PREP ACP27A\\n1.0 STUDY SKILLS A & B MIS053\\n* Depending on Personalized Pathway Requirements\\n'"
      ]
     },
     "execution_count": 26,
     "metadata": {},
     "output_type": "execute_result"
    }
   ],
   "source": [
    "with open('datasets/ahs23-24/courses-frosh.txt', 'r') as fp:\n",
    "    courses_frosh = fp.read()\n",
    "courses_frosh"
   ]
  },
  {
   "cell_type": "code",
   "execution_count": 27,
   "metadata": {},
   "outputs": [
    {
     "data": {
      "text/plain": [
       "['HONORS',\n",
       " 'EN100A',\n",
       " 'DESIGN',\n",
       " 'VOC425',\n",
       " 'VOC430',\n",
       " 'VOC534',\n",
       " 'SS100A',\n",
       " 'VOC535',\n",
       " 'SS700A',\n",
       " 'VCT300',\n",
       " 'VOC560',\n",
       " 'VOC565',\n",
       " 'SC120A',\n",
       " 'VOC570',\n",
       " 'SC220A',\n",
       " 'VOC571',\n",
       " 'SC300A',\n",
       " 'VOC575',\n",
       " 'SC300B',\n",
       " 'VOC630',\n",
       " 'VOC632',\n",
       " 'METALS',\n",
       " 'VOC831',\n",
       " 'METALS',\n",
       " 'MA130A',\n",
       " 'VOC911',\n",
       " 'MA140A',\n",
       " 'VOC912',\n",
       " 'MA150A',\n",
       " 'HONORS',\n",
       " 'AR100A',\n",
       " 'AR100B',\n",
       " 'SPORTS',\n",
       " 'PE100A',\n",
       " 'AR150A',\n",
       " 'SPORTS',\n",
       " 'PE100B',\n",
       " 'AR150B',\n",
       " 'PE130A',\n",
       " 'AR240A',\n",
       " 'PE130B',\n",
       " 'AR240B',\n",
       " 'CARDIO',\n",
       " 'PE140A',\n",
       " 'DRA110',\n",
       " 'CARDIO',\n",
       " 'PE140B',\n",
       " 'DRA200',\n",
       " 'DT500A',\n",
       " 'DT500B',\n",
       " 'HEALTH',\n",
       " 'MU100A',\n",
       " 'MU100B',\n",
       " 'MU600A',\n",
       " 'MU600B',\n",
       " 'MU640A',\n",
       " 'MU640B',\n",
       " 'MU620A',\n",
       " 'MU620B',\n",
       " 'WL100A',\n",
       " 'WL200A',\n",
       " 'MA100A',\n",
       " 'ACP27A',\n",
       " 'SKILLS',\n",
       " 'MIS053']"
      ]
     },
     "execution_count": 27,
     "metadata": {},
     "output_type": "execute_result"
    }
   ],
   "source": [
    "# find a six-character run of capital/number surrounded by whitespace \\s\n",
    "pattern = \"\\s([A-Z0-9]{6})\\s\"\n",
    "re.findall(pattern, courses_frosh)"
   ]
  },
  {
   "cell_type": "code",
   "execution_count": 14,
   "metadata": {},
   "outputs": [
    {
     "data": {
      "text/plain": [
       "'ACP24A\\tANACORTES COLLEGE PREP 2024\\n0.500 Credits,  Elective\\nACP24B\\tANACORTES COLLEGE PREP 2024\\n0.500 Credits,  Elective\\nAR100A\\tDRAWING\\n0.500 Credits,  Elective\\nAR100B\\tDRAWING II\\n0.500 Credits,  Elective\\nAR150A\\tPAINTING\\n0.500 Credits,  Elective\\nAR150B\\tPAINTING II\\n0.500 Credits,  Elective\\nAR240A\\tSCULPTURE\\n0.500 Credits,  Elective\\nAR240B\\tSCULPTURE II\\n0.500 Credits,  Elective\\nCIHSSA\\tSENIOR SEMINAR\\n0.500 Credits,  Elective\\nCIHSSB\\tSENIOR SEMINAR\\n0.500 Credits,  Elective\\nDRA110\\tDRAMA I\\n0.500 Credits,  Elective\\nDRA200\\tDRAMA II\\n0.500 Credits,  Elective\\nDRA300\\tDRAMA III\\n0.500 Credits,  Elective\\nDRA301\\tDRAMA III\\n0.500 Credits,  Elective\\nDT500A\\tADV TECHNICAL THEATRE\\n0.500 Credits,  Elective\\nDT500B\\tADV TECH THEATRE\\n0.500 Credits,  Elective\\nEN420A\\tENGLISH 12 BTC\\n0.500 Credits,  Required\\nEN420B\\tENGLISH 12 BTC\\n0.500 Credits,  Required\\nEN720A\\tAP LITERATURE\\n0.500 Credits,  Required\\nEN720B\\tAP LITERATURE\\n0.500 Credits,  Required\\nMA150A\\tALGEBRA II\\n0.500 Credits,  Required\\nMA150B\\tALGEBRA II\\n0.500 Credits,  Required\\nMA155A\\tALG II HONORS\\n0.500 Credits,  Required\\nMA155B\\tALG II HONORS\\n0.500 Credits,  Required\\nMIS053\\tSTUDY SKILLS A\\n0.500 Credits,  Required\\nMIS054\\tSTUDY SKILLS B\\n0.500 Credits,  Required\\nMU100A\\tCHOIR\\n0.500 Credits,  Required\\nMU100B\\tCHOIR\\n0.500 Credits,  Required\\nMU600A\\tSYMPHONIC BAND\\n0.500 Credits,  Required\\nMU600B\\tSYMPHONIC BAND\\n0.500 Credits,  Required\\nMU620A\\tWIND ENSEMBLE\\n0.500 Credits,  Elective\\nMU620B\\tWIND ENSEMBLE\\n0.500 Credits,  Elective\\nMU640A\\tPERCUSSION ENSEMBLE\\n0.500 Credits,  Elective\\nMU640B\\tPERCUSSION ENSEMBLE\\n0.500 Credits,  Elective\\nPE100A\\tSPORTS/CONDITIONING\\n0.500 Credits,  Elective\\nPE100B\\tSPORTS CONDITIONING\\n0.500 Credits,  Elective\\nPE130A\\tSTRENGTH CONDITIONING\\n0.500 Credits,  Elective\\nPE130B\\tSTRENGTH CONDITIONING\\n0.500 Credits,  Elective\\nPE140A\\tCARDIO CORE\\n0.500 Credits,  Elective\\nPE140B\\tCARDIO CORE\\n0.500 Credits,  Elective\\nSC220A\\tCHEMISTRY\\n0.500 Credits,  Required\\nSC220B\\tCHEMISTRY\\n0.500 Credits,  Required\\nSC300A\\tROBOTICS\\n0.500 Credits,  Required\\nSC300B\\tROBOTICS\\n0.500 Credits,  Required\\nSC700A\\tAP ENV SCIENCE\\n0.500 Credits,  Required\\nSC700B\\tAP ENV SCIENCE\\n0.500 Credits,  Required\\nSC720A\\tPHYSICS A\\n0.500 Credits,  Required\\nSC720B\\tPHYSICS B\\n0.500 Credits,  Required\\nSC730A\\tAP PHYSICS SCIENCE A\\n0.500 Credits,  Required\\nSC730B\\tAP PHYSICS SCIENCE B\\n0.500 Credits,  Required\\nSS300A\\tCIVICS\\n0.500 Credits,  Required\\nSS310A\\tCONT AMER CULTURE\\n0.500 Credits,  Required\\nSS320A\\tCONT ISSUES/MEDIA\\n0.500 Credits,  Required\\nSS330A\\tCONT WORLD ISSUES\\n0.500 Credits,  Required\\nSS400A\\tHON CONT ISSUES/RELIGIONS A\\n0.500 Credits,  Required\\nSS400B\\tHON CONT ISSUES/RELIGIONS B\\n0.500 Credits,  Required\\nSS730A\\tAP US GOV/POL A\\n0.500 Credits,  Required\\nSS730B\\tAP US GOV/POL B\\n0.500 Credits,  Required\\nSTLEA1\\tSTUD LEAD/GOVT\\n0.500 Credits,  Elective\\nSTLEA2\\tSTUD LEAD/GOVT\\n0.500 Credits,  Elective\\nVCT300\\tINTRO COMP SCIENCE\\n0.500 Credits,  Elective\\nVOC425\\tENG DRAW&DES I/CNC MACHINE\\n0.500 Credits,  Elective\\nVOC426\\tENG DRAWING & DESIGN II\\n0.500 Credits,  Elective\\nVOC430\\tARCH DRAW/DSGN\\n0.500 Credits,  Elective\\nVOC431\\tARCHITEC DRAWING & DESIGN II\\n0.500 Credits,  Elective\\nVOC517\\tYEARBOOK LAB\\n0.500 Credits,  Elective\\nVOC519\\tYEARBOOK LAB II\\n0.500 Credits,  Elective\\nVOC534\\tMS 2010 IT ACADEMY\\n0.500 Credits,  Elective\\nVOC535\\tADV MS 2010 IT ACADEMY\\n0.500 Credits,  Elective\\nVOC560\\tDIGITAL MEDIA PRODUCTION\\n0.500 Credits,  Elective\\nVOC565\\tADV DIGITAL MEDIA A\\n0.500 Credits,  Elective\\nVOC566\\tADV DIGITAL MEDIA B\\n0.500 Credits,  Elective\\nVOC570\\tCOMMERCIAL PHOTOGRAPHY\\n0.500 Credits,  Elective\\nVOC571\\tCOMMERCIAL PHOTOGRAPHY II\\n0.500 Credits,  Elective\\nVOC575\\tYEARBOOK A\\n0.500 Credits,  Elective\\nVOC576\\tYEARBOOK B\\n0.500 Credits,  Elective\\nVOC616\\tHUMAN ANATOMY\\n0.500 Credits,  Elective\\nVOC617\\tHUMAN ANATOMY\\n0.500 Credits,  Elective\\nVOC620\\tSPORTS MEDICINE I\\n0.500 Credits,  Elective\\nVOC621\\tSPORTS MEDICINE II\\n0.500 Credits,  Elective\\nVOC630\\tMARKETING\\n0.500 Credits,  Elective\\nVOC632\\tADV MARKETING\\n0.500 Credits,  Elective\\nVOC635\\tSTUDENT STORE\\n0.500 Credits,  Elective\\nVOC636\\tSTUDENT STORE\\n0.500 Credits,  Elective\\nVOC740\\tPERSONAL FINANCE I\\n0.500 Credits,  Elective\\nVOC741\\tPERSONAL FINANCE II\\n0.500 Credits,  Elective\\nVOC831\\tMETALS TECH I\\n0.500 Credits,  Elective\\nVOC832\\tMETALS TECH II\\n0.500 Credits,  Elective\\nVOC911\\tWOODTECHNOLOGY I\\n0.500 Credits,  Elective\\nVOC912\\tWOODWORKING TECHNOLOGY II\\n0.500 Credits,  Elective\\nWL100A\\tSPANISH I\\n0.500 Credits,  Required\\nWL100B\\tSPANISH I\\n0.500 Credits,  Required\\nWL200A\\tSPANISH II\\n0.500 Credits,  Required\\nWL200B\\tSPANISH II\\n0.500 Credits,  Required\\nWL310A\\tSPAN 123 SPANISH III\\n0.500 Credits,  Elective\\nWL310B\\tSPAN 123 SPANISH III\\n0.500 Credits,  Elective\\nWL410A\\tSPAN 221 SPANISH IV\\n0.500 Credits,  Elective\\nWL410B\\tSPAN 221 SPANISH IV\\n0.500 Credits,  Elective\\nWL710A\\tAP SPANISH LANG & CULTURE\\n0.500 Credits,  Elective\\nWL710B\\tAP SPANISH LANGUAGE & CULTURE\\n0.500 Credits,  Elective'"
      ]
     },
     "execution_count": 14,
     "metadata": {},
     "output_type": "execute_result"
    }
   ],
   "source": [
    "with open('datasets/ahs23-24/skyward-courses.txt', 'r') as fp:\n",
    "    data = fp.read()\n",
    "data\n"
   ]
  },
  {
   "cell_type": "code",
   "execution_count": 17,
   "metadata": {},
   "outputs": [
    {
     "data": {
      "text/plain": [
       "['ACP24A',\n",
       " 'ACP24B',\n",
       " 'AR100A',\n",
       " 'AR100B',\n",
       " 'AR150A',\n",
       " 'AR150B',\n",
       " 'AR240A',\n",
       " 'AR240B',\n",
       " 'CIHSSA',\n",
       " 'CIHSSB',\n",
       " 'DRA110',\n",
       " 'DRA200',\n",
       " 'DRA300',\n",
       " 'DRA301',\n",
       " 'DT500A',\n",
       " 'DT500B',\n",
       " 'EN420A',\n",
       " 'EN420B',\n",
       " 'EN720A',\n",
       " 'EN720B',\n",
       " 'MA150A',\n",
       " 'MA150B',\n",
       " 'MA155A',\n",
       " 'MA155B',\n",
       " 'MIS053',\n",
       " 'MIS054',\n",
       " 'MU100A',\n",
       " 'MU100B',\n",
       " 'MU600A',\n",
       " 'MU600B',\n",
       " 'MU620A',\n",
       " 'MU620B',\n",
       " 'MU640A',\n",
       " 'MU640B',\n",
       " 'PE100A',\n",
       " 'PE100B',\n",
       " 'PE130A',\n",
       " 'PE130B',\n",
       " 'PE140A',\n",
       " 'PE140B',\n",
       " 'SC220A',\n",
       " 'SC220B',\n",
       " 'SC300A',\n",
       " 'SC300B',\n",
       " 'SC700A',\n",
       " 'SC700B',\n",
       " 'SC720A',\n",
       " 'SC720B',\n",
       " 'SC730A',\n",
       " 'SC730B',\n",
       " 'SS300A',\n",
       " 'SS310A',\n",
       " 'SS320A',\n",
       " 'SS330A',\n",
       " 'SS400A',\n",
       " 'SS400B',\n",
       " 'SS730A',\n",
       " 'SS730B',\n",
       " 'STLEA1',\n",
       " 'STLEA2',\n",
       " 'VCT300',\n",
       " 'VOC425',\n",
       " 'VOC426',\n",
       " 'VOC430',\n",
       " 'VOC431',\n",
       " 'VOC517',\n",
       " 'VOC519',\n",
       " 'VOC534',\n",
       " 'VOC535',\n",
       " 'VOC560',\n",
       " 'VOC565',\n",
       " 'VOC566',\n",
       " 'VOC570',\n",
       " 'VOC571',\n",
       " 'VOC575',\n",
       " 'VOC576',\n",
       " 'VOC616',\n",
       " 'VOC617',\n",
       " 'VOC620',\n",
       " 'VOC621',\n",
       " 'VOC630',\n",
       " 'VOC632',\n",
       " 'VOC635',\n",
       " 'VOC636',\n",
       " 'VOC740',\n",
       " 'VOC741',\n",
       " 'VOC831',\n",
       " 'VOC832',\n",
       " 'VOC911',\n",
       " 'VOC912',\n",
       " 'WL100A',\n",
       " 'WL100B',\n",
       " 'WL200A',\n",
       " 'WL200B',\n",
       " 'WL310A',\n",
       " 'WL310B',\n",
       " 'WL410A',\n",
       " 'WL410B',\n",
       " 'WL710A',\n",
       " 'WL710B']"
      ]
     },
     "execution_count": 17,
     "metadata": {},
     "output_type": "execute_result"
    }
   ],
   "source": [
    "# find a six-character run of capital/number followed by a \\t (tab character)\n",
    "pattern = \"([A-Z0-9]{6})\\t\"\n",
    "re.findall(pattern, data)"
   ]
  },
  {
   "cell_type": "code",
   "execution_count": 19,
   "metadata": {},
   "outputs": [
    {
     "data": {
      "text/plain": [
       "[{'key': 'AR100A', 'course': 'DRAWING'},\n",
       " {'key': 'AR150A', 'course': 'PAINTING'},\n",
       " {'key': 'AR240A', 'course': 'SCULPTURE'}]"
      ]
     },
     "execution_count": 19,
     "metadata": {},
     "output_type": "execute_result"
    }
   ],
   "source": [
    "def parse_courses():\n",
    "    courses = []\n",
    "    with open('datasets/ahs23-24/skyward-courses.txt', \"r\") as file:\n",
    "        coursedata = file.read()\n",
    "    # group name syntax: https://docs.python.org/3/library/re.html#re.Match.group\n",
    "    for item in re.finditer('(?P<key>[A-Z0-9]{6})\\t(?P<course>\\w+)\\n', coursedata):\n",
    "        foo = item.groupdict()\n",
    "        courses.append(foo)\n",
    "    return courses\n",
    "\n",
    "parse_courses()[:3]"
   ]
  }
 ],
 "metadata": {
  "kernelspec": {
   "display_name": "Python 3",
   "language": "python",
   "name": "python3"
  },
  "language_info": {
   "codemirror_mode": {
    "name": "ipython",
    "version": 3
   },
   "file_extension": ".py",
   "mimetype": "text/x-python",
   "name": "python",
   "nbconvert_exporter": "python",
   "pygments_lexer": "ipython3",
   "version": "3.9.2"
  },
  "orig_nbformat": 4
 },
 "nbformat": 4,
 "nbformat_minor": 2
}
