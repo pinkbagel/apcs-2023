{
 "cells": [
  {
   "attachments": {},
   "cell_type": "markdown",
   "metadata": {},
   "source": [
    "# Courses and Teachers!"
   ]
  },
  {
   "cell_type": "code",
   "execution_count": null,
   "metadata": {},
   "outputs": [],
   "source": [
    "# first, import the re module to use python's regular expressions\n",
    "import re"
   ]
  },
  {
   "cell_type": "code",
   "execution_count": null,
   "metadata": {},
   "outputs": [],
   "source": [
    "with open('datasets/ahs23-24/courses.txt', 'r') as fp:\n",
    "    courses_upper = fp.read()\n",
    "courses_upper"
   ]
  },
  {
   "cell_type": "code",
   "execution_count": null,
   "metadata": {},
   "outputs": [],
   "source": [
    "# find a six-character run of capital/number surrounded by whitespace \\s\n",
    "pattern = \"\\s([A-Z0-9]{6})\\s\"\n",
    "# find credits, course, and symbol\n",
    "pattern = r\"(1.0|0.5|0.25) ([\\w\\s\\(\\)\\&\\-\\/]+(?:Req\\.\\))?) ([A-Z0-9]{5,6})\"\n",
    "courses = re.findall(pattern, courses_upper)\n",
    "print(len(courses), \"courses matched\")\n",
    "courses"
   ]
  },
  {
   "cell_type": "code",
   "execution_count": null,
   "metadata": {},
   "outputs": [],
   "source": [
    "with open('datasets/ahs23-24/courses-frosh.txt', 'r') as fp:\n",
    "    courses_frosh = fp.read()\n",
    "courses_frosh"
   ]
  },
  {
   "cell_type": "code",
   "execution_count": null,
   "metadata": {},
   "outputs": [],
   "source": [
    "# find a six-character run of capital/number surrounded by whitespace \\s\n",
    "pattern = \"\\s([A-Z0-9]{6})\\s\"\n",
    "# find credits, course, and symbol\n",
    "pattern = r\"(1.0|0.5|0.25) ([\\w\\s\\(\\)\\&\\-\\/]+(?:Req\\.\\))?) ([A-Z0-9]{5,6})\"\n",
    "courses = re.findall(pattern, courses_frosh)\n",
    "print(len(courses), \"courses matched\")\n",
    "courses"
   ]
  },
  {
   "cell_type": "code",
   "execution_count": null,
   "metadata": {},
   "outputs": [],
   "source": [
    "with open('datasets/ahs23-24/skyward-courses.txt', 'r') as fp:\n",
    "    data = fp.read()\n",
    "data\n"
   ]
  },
  {
   "cell_type": "code",
   "execution_count": null,
   "metadata": {},
   "outputs": [],
   "source": [
    "# find a six-character run of capital/number followed by a \\t (tab character)\n",
    "pattern = r\"([A-Z0-9]{6})\\t(.*)\\n([\\d\\.]+) Credits,  (Elective|Required)\"\n",
    "# find symbol, course, and credits, and elective/required\n",
    "courses = re.findall(pattern, data)\n",
    "print(len(courses), \"courses matched\")\n",
    "courses"
   ]
  },
  {
   "cell_type": "code",
   "execution_count": null,
   "metadata": {},
   "outputs": [],
   "source": [
    "def parse_courses():\n",
    "    courses = []\n",
    "    with open('datasets/ahs23-24/skyward-courses.txt', \"r\") as file:\n",
    "        coursedata = file.read()\n",
    "    # group name syntax: https://docs.python.org/3/library/re.html#re.Match.group\n",
    "    for item in re.finditer('(?P<key>[A-Z0-9]{6})\\t(?P<course>.+)\\n(?P<credits>[\\d\\.]+) Credits,  (?P<type>Elective|Required)', coursedata):\n",
    "        foo = item.groupdict()\n",
    "        foo['credits'] = float(foo['credits'])\n",
    "        courses.append(foo)\n",
    "    return courses\n",
    "\n",
    "courses = parse_courses()\n",
    "print(len(courses), \"courses matched\")\n",
    "courses"
   ]
  },
  {
   "cell_type": "code",
   "execution_count": null,
   "metadata": {},
   "outputs": [],
   "source": [
    "import re\n",
    "import csv\n",
    "\n",
    "def parse_filename_with_regex(filename, regex):\n",
    "    courses = []\n",
    "    with open(filename, \"r\") as file:\n",
    "        coursedata = file.read()\n",
    "    \n",
    "    for item in regex.finditer(coursedata):\n",
    "        course = item.groupdict()\n",
    "        course['credits'] = float(course['credits'])\n",
    "        courses.append(course)\n",
    "    return courses\n",
    "\n",
    "skyward_regex = re.compile(r\"(?P<key>[A-Z0-9]{6})\\t(?P<course>.+)\\n(?P<credits>[\\d\\.]+) Credits,  (?P<type>Elective|Required)\")\n",
    "ahs_regex = re.compile(r\"(?P<credits>1.0|0.5|0.25) (?P<course>[\\w\\s\\(\\)\\&\\-\\/]+(?:Req\\.\\))?) (?P<key>[A-Z0-9]{5,6})\")\n",
    "skyware_file = 'datasets/ahs23-24/skyward-courses.txt'\n",
    "courses_frosh_file = 'datasets/ahs23-24/courses-frosh.txt'\n",
    "courses_file = 'datasets/ahs23-24/courses.txt'\n",
    "\n",
    "all_courses = []\n",
    "all_courses.extend(parse_filename_with_regex(skyware_file,skyward_regex))\n",
    "all_courses.extend(parse_filename_with_regex(courses_file,ahs_regex))\n",
    "all_courses.extend(parse_filename_with_regex(courses_frosh_file,ahs_regex))\n",
    "\n",
    "outfile = 'datasets/courses.csv'\n",
    "with open(outfile, 'w') as csvfile:\n",
    "    fieldnames = ['key','course','credits','type']\n",
    "    writer = csv.DictWriter(csvfile, fieldnames=fieldnames)\n",
    "    writer.writeheader()\n",
    "    for course in sorted(all_courses, key=lambda course: course['key']):\n",
    "        writer.writerow(course)\n",
    "\n",
    "print(\"wrote\",len(all_courses),\"courses to\",outfile)"
   ]
  },
  {
   "attachments": {},
   "cell_type": "markdown",
   "metadata": {},
   "source": [
    "What can we discover with this data?\n",
    "- How many teachers does the school need to run this course load?  How many periods do they teach?\n",
    "- If we were going to schedule classes, what algorithm can we imagine?\n",
    "- How do we de-dupe this data?"
   ]
  }
 ],
 "metadata": {
  "kernelspec": {
   "display_name": "Python 3",
   "language": "python",
   "name": "python3"
  },
  "language_info": {
   "codemirror_mode": {
    "name": "ipython",
    "version": 3
   },
   "file_extension": ".py",
   "mimetype": "text/x-python",
   "name": "python",
   "nbconvert_exporter": "python",
   "pygments_lexer": "ipython3",
   "version": "3.9.2"
  },
  "orig_nbformat": 4
 },
 "nbformat": 4,
 "nbformat_minor": 2
}
