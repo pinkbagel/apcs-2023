{
 "cells": [
  {
   "attachments": {},
   "cell_type": "markdown",
   "metadata": {},
   "source": [
    "# 2023 Track - 1600m\n",
    "Selected meets..."
   ]
  },
  {
   "cell_type": "code",
   "execution_count": null,
   "metadata": {},
   "outputs": [],
   "source": [
    "import re\n",
    "finish_regex = re.compile(r\"(?P<place>\\d+)\\.\\t(?P<grade>\\d+)\\t(?P<name>[\\w ]+)\\t+(?P<time>[0-9:\\.]+)a(?P<record>SR|PR)?\\n(?P<school>[\\w\\-\\(\\) ]+)\")"
   ]
  },
  {
   "cell_type": "code",
   "execution_count": null,
   "metadata": {},
   "outputs": [],
   "source": [
    "def read_meet_file(filename):\n",
    "    with open(filename, 'r') as file:\n",
    "        content = file.read()\n",
    "\n",
    "    lines = content.splitlines()\n",
    "    meet = lines[0]\n",
    "    date = lines[1]\n",
    "    gender = lines[2].split(\" \")[0]\n",
    "    finishes = []\n",
    "    for item in finish_regex.finditer(content):\n",
    "        finish = item.groupdict()\n",
    "        finish['place'] = int(finish['place'])\n",
    "        finish['grade'] = int(finish['grade'])\n",
    "        finish['meet'] = meet\n",
    "        finish['date'] = date\n",
    "        finish['gender'] = gender\n",
    "        finishes.append(finish)\n",
    "\n",
    "    return finishes\n",
    "read_meet_file('datasets/tf-1600/2023-04-08_Womens.txt')"
   ]
  },
  {
   "cell_type": "code",
   "execution_count": null,
   "metadata": {},
   "outputs": [],
   "source": [
    "import glob\n",
    "import csv\n",
    "\n",
    "all_finishes = []\n",
    "for filename in glob.glob('datasets/tf-1600/*.txt'):\n",
    "    all_finishes.extend(read_meet_file(filename))\n",
    "\n",
    "outfile = 'datasets/results.csv'\n",
    "with open(outfile, 'w') as csvfile:\n",
    "    fieldnames = ['school','gender','name','grade','time','place','record','meet','date']\n",
    "    writer = csv.DictWriter(csvfile, fieldnames=fieldnames)\n",
    "    writer.writeheader()\n",
    "    for finish in all_finishes:\n",
    "        writer.writerow(finish)\n",
    "\n",
    "print(\"wrote\",len(all_finishes),\"finishes to\",outfile)"
   ]
  },
  {
   "attachments": {},
   "cell_type": "markdown",
   "metadata": {},
   "source": [
    "What questions could this data potentially answer?\n",
    "- How much faster (or slower) is the average senior vs. freshman?\n",
    "- ..."
   ]
  }
 ],
 "metadata": {
  "kernelspec": {
   "display_name": "Python 3",
   "language": "python",
   "name": "python3"
  },
  "language_info": {
   "codemirror_mode": {
    "name": "ipython",
    "version": 3
   },
   "file_extension": ".py",
   "mimetype": "text/x-python",
   "name": "python",
   "nbconvert_exporter": "python",
   "pygments_lexer": "ipython3",
   "version": "3.9.2"
  },
  "orig_nbformat": 4
 },
 "nbformat": 4,
 "nbformat_minor": 2
}
